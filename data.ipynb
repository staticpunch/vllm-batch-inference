{
 "cells": [
  {
   "cell_type": "code",
   "execution_count": 23,
   "id": "674a24ff-6dbf-4b9c-abbc-c7432200432f",
   "metadata": {},
   "outputs": [],
   "source": [
    "from datasets import load_dataset\n",
    "from datasets import load_dataset\n",
    "\n",
    "smol = load_dataset(\"HuggingFaceTB/smoltalk\", \"explore-instruct-rewriting\", split=\"train\")"
   ]
  },
  {
   "cell_type": "code",
   "execution_count": 24,
   "id": "d003a1c4-0524-4510-900f-5acebd906642",
   "metadata": {},
   "outputs": [],
   "source": [
    "def get_prompt(example):\n",
    "    prompt = None\n",
    "    for m in example[\"messages\"]:\n",
    "        if m[\"role\"] == \"user\":\n",
    "            prompt = m[\"content\"]\n",
    "            break\n",
    "    return {\"prompt\": prompt}\n",
    "\n",
    "prompts = smol.map(get_prompt).filter(lambda x: x[\"prompt\"])"
   ]
  },
  {
   "cell_type": "code",
   "execution_count": 26,
   "id": "a16891f2-91a1-46b0-ab63-09a78a6f4a4a",
   "metadata": {},
   "outputs": [
    {
     "data": {
      "application/vnd.jupyter.widget-view+json": {
       "model_id": "3ae34edfcdcb40f68ec63b54ee4902db",
       "version_major": 2,
       "version_minor": 0
      },
      "text/plain": [
       "Creating json from Arrow format:   0%|          | 0/1 [00:00<?, ?ba/s]"
      ]
     },
     "metadata": {},
     "output_type": "display_data"
    },
    {
     "data": {
      "text/plain": [
       "206495"
      ]
     },
     "execution_count": 26,
     "metadata": {},
     "output_type": "execute_result"
    }
   ],
   "source": [
    "prompts.select_columns([\"prompt\"]).select(range(1000)).to_json(\"prompts.jsonl\")"
   ]
  }
 ],
 "metadata": {
  "kernelspec": {
   "display_name": "merger2",
   "language": "python",
   "name": "merger2"
  },
  "language_info": {
   "codemirror_mode": {
    "name": "ipython",
    "version": 3
   },
   "file_extension": ".py",
   "mimetype": "text/x-python",
   "name": "python",
   "nbconvert_exporter": "python",
   "pygments_lexer": "ipython3",
   "version": "3.11.10"
  }
 },
 "nbformat": 4,
 "nbformat_minor": 5
}
